{
  "nbformat": 4,
  "nbformat_minor": 0,
  "metadata": {
    "colab": {
      "name": "Spam/ham_LSTM.ipynb",
      "provenance": [],
      "collapsed_sections": [],
      "machine_shape": "hm"
    },
    "kernelspec": {
      "name": "python3",
      "display_name": "Python 3"
    },
    "accelerator": "GPU"
  },
  "cells": [
    {
      "cell_type": "code",
      "metadata": {
        "id": "P2zJmRfhBXLN",
        "colab_type": "code",
        "outputId": "9fba1f24-7065-4158-810b-6d93ec86a490",
        "colab": {
          "base_uri": "https://localhost:8080/",
          "height": 165
        }
      },
      "source": [
        "import numpy as np\n",
        "from sklearn.model_selection import train_test_split\n",
        "import pandas as pd\n",
        "import matplotlib.pyplot as plt\n",
        "import tensorflow as tf\n",
        "from tensorflow import keras\n",
        "%matplotlib inline\n",
        "import seaborn as sns\n",
        "sns.set(style = \"whitegrid\", \n",
        "        color_codes = True,\n",
        "        font_scale = 1.5)\n",
        "from keras.models import load_model, Model\n",
        "from keras.layers import SimpleRNN, Dense, Input, Dropout, LSTM, Activation, Embedding, Bidirectional\n",
        "from bs4 import BeautifulSoup\n",
        "import nltk\n",
        "from nltk.corpus import stopwords\n",
        "from nltk.tokenize import word_tokenize \n",
        "nltk.download('stopwords')\n",
        "nltk.download('punkt')"
      ],
      "execution_count": 1,
      "outputs": [
        {
          "output_type": "display_data",
          "data": {
            "text/html": [
              "<p style=\"color: red;\">\n",
              "The default version of TensorFlow in Colab will soon switch to TensorFlow 2.x.<br>\n",
              "We recommend you <a href=\"https://www.tensorflow.org/guide/migrate\" target=\"_blank\">upgrade</a> now \n",
              "or ensure your notebook will continue to use TensorFlow 1.x via the <code>%tensorflow_version 1.x</code> magic:\n",
              "<a href=\"https://colab.research.google.com/notebooks/tensorflow_version.ipynb\" target=\"_blank\">more info</a>.</p>\n"
            ],
            "text/plain": [
              "<IPython.core.display.HTML object>"
            ]
          },
          "metadata": {
            "tags": []
          }
        },
        {
          "output_type": "stream",
          "text": [
            "Using TensorFlow backend.\n"
          ],
          "name": "stderr"
        },
        {
          "output_type": "stream",
          "text": [
            "[nltk_data] Downloading package stopwords to /root/nltk_data...\n",
            "[nltk_data]   Unzipping corpora/stopwords.zip.\n",
            "[nltk_data] Downloading package punkt to /root/nltk_data...\n",
            "[nltk_data]   Unzipping tokenizers/punkt.zip.\n"
          ],
          "name": "stdout"
        },
        {
          "output_type": "execute_result",
          "data": {
            "text/plain": [
              "True"
            ]
          },
          "metadata": {
            "tags": []
          },
          "execution_count": 1
        }
      ]
    },
    {
      "cell_type": "code",
      "metadata": {
        "id": "UiXgK2LtMvKa",
        "colab_type": "code",
        "outputId": "2c588e8c-7599-4b2c-d01f-79e939eb0c9e",
        "colab": {
          "base_uri": "https://localhost:8080/",
          "height": 34
        }
      },
      "source": [
        "!pip install beautifulsoup4"
      ],
      "execution_count": 2,
      "outputs": [
        {
          "output_type": "stream",
          "text": [
            "Requirement already satisfied: beautifulsoup4 in /usr/local/lib/python3.6/dist-packages (4.6.3)\n"
          ],
          "name": "stdout"
        }
      ]
    },
    {
      "cell_type": "code",
      "metadata": {
        "id": "NsoXRMKe_nAq",
        "colab_type": "code",
        "outputId": "3ee8d18b-ab8c-4408-9376-37b8257b9007",
        "colab": {
          "base_uri": "https://localhost:8080/",
          "height": 122
        }
      },
      "source": [
        "from google.colab import drive\n",
        "drive.mount('/content/drive')"
      ],
      "execution_count": 3,
      "outputs": [
        {
          "output_type": "stream",
          "text": [
            "Go to this URL in a browser: https://accounts.google.com/o/oauth2/auth?client_id=947318989803-6bn6qk8qdgf4n4g3pfee6491hc0brc4i.apps.googleusercontent.com&redirect_uri=urn%3aietf%3awg%3aoauth%3a2.0%3aoob&response_type=code&scope=email%20https%3a%2f%2fwww.googleapis.com%2fauth%2fdocs.test%20https%3a%2f%2fwww.googleapis.com%2fauth%2fdrive%20https%3a%2f%2fwww.googleapis.com%2fauth%2fdrive.photos.readonly%20https%3a%2f%2fwww.googleapis.com%2fauth%2fpeopleapi.readonly\n",
            "\n",
            "Enter your authorization code:\n",
            "··········\n",
            "Mounted at /content/drive\n"
          ],
          "name": "stdout"
        }
      ]
    },
    {
      "cell_type": "code",
      "metadata": {
        "id": "7MmkjoaXCRHz",
        "colab_type": "code",
        "colab": {}
      },
      "source": [
        "# Read in data from CSV\n",
        "original_training_data = pd.read_csv('/content/drive/My Drive/Colab Notebooks/data/train.csv')\n",
        "evaluation = pd.read_csv('/content/drive/My Drive/Colab Notebooks/data/eval.csv')\n",
        "\n",
        "# Convert the emails to lower case as a first step to processing the text\n",
        "original_training_data['email'] = original_training_data['email'].str.lower()\n",
        "evaluation['email'] = evaluation['email'].str.lower()"
      ],
      "execution_count": 0,
      "outputs": []
    },
    {
      "cell_type": "code",
      "metadata": {
        "id": "Z2PPiLR3Bp7m",
        "colab_type": "code",
        "outputId": "2d22d1b1-cf08-4702-9a5a-2e96930f362f",
        "colab": {
          "base_uri": "https://localhost:8080/",
          "height": 204
        }
      },
      "source": [
        "# View the CSV\n",
        "original_training_data.head()"
      ],
      "execution_count": 6,
      "outputs": [
        {
          "output_type": "execute_result",
          "data": {
            "text/html": [
              "<div>\n",
              "<style scoped>\n",
              "    .dataframe tbody tr th:only-of-type {\n",
              "        vertical-align: middle;\n",
              "    }\n",
              "\n",
              "    .dataframe tbody tr th {\n",
              "        vertical-align: top;\n",
              "    }\n",
              "\n",
              "    .dataframe thead th {\n",
              "        text-align: right;\n",
              "    }\n",
              "</style>\n",
              "<table border=\"1\" class=\"dataframe\">\n",
              "  <thead>\n",
              "    <tr style=\"text-align: right;\">\n",
              "      <th></th>\n",
              "      <th>id</th>\n",
              "      <th>subject</th>\n",
              "      <th>email</th>\n",
              "      <th>spam</th>\n",
              "    </tr>\n",
              "  </thead>\n",
              "  <tbody>\n",
              "    <tr>\n",
              "      <th>0</th>\n",
              "      <td>0</td>\n",
              "      <td>Subject: A&amp;L Daily to be auctioned in bankrupt...</td>\n",
              "      <td>url: http://boingboing.net/#85534171\\n date: n...</td>\n",
              "      <td>0</td>\n",
              "    </tr>\n",
              "    <tr>\n",
              "      <th>1</th>\n",
              "      <td>1</td>\n",
              "      <td>Subject: Wired: \"Stronger ties between ISPs an...</td>\n",
              "      <td>url: http://scriptingnews.userland.com/backiss...</td>\n",
              "      <td>0</td>\n",
              "    </tr>\n",
              "    <tr>\n",
              "      <th>2</th>\n",
              "      <td>2</td>\n",
              "      <td>Subject: It's just too small                  ...</td>\n",
              "      <td>&lt;html&gt;\\n &lt;head&gt;\\n &lt;/head&gt;\\n &lt;body&gt;\\n &lt;font siz...</td>\n",
              "      <td>1</td>\n",
              "    </tr>\n",
              "    <tr>\n",
              "      <th>3</th>\n",
              "      <td>3</td>\n",
              "      <td>Subject: liberal defnitions\\n</td>\n",
              "      <td>depends on how much over spending vs. how much...</td>\n",
              "      <td>0</td>\n",
              "    </tr>\n",
              "    <tr>\n",
              "      <th>4</th>\n",
              "      <td>4</td>\n",
              "      <td>Subject: RE: [ILUG] Newbie seeks advice - Suse...</td>\n",
              "      <td>hehe sorry but if you hit caps lock twice the ...</td>\n",
              "      <td>0</td>\n",
              "    </tr>\n",
              "  </tbody>\n",
              "</table>\n",
              "</div>"
            ],
            "text/plain": [
              "   id  ... spam\n",
              "0   0  ...    0\n",
              "1   1  ...    0\n",
              "2   2  ...    1\n",
              "3   3  ...    0\n",
              "4   4  ...    0\n",
              "\n",
              "[5 rows x 4 columns]"
            ]
          },
          "metadata": {
            "tags": []
          },
          "execution_count": 6
        }
      ]
    },
    {
      "cell_type": "code",
      "metadata": {
        "id": "FWDGEPssBq58",
        "colab_type": "code",
        "colab": {}
      },
      "source": [
        "[train, test] = train_test_split(original_training_data, test_size=0.1, random_state=42)"
      ],
      "execution_count": 0,
      "outputs": []
    },
    {
      "cell_type": "code",
      "metadata": {
        "id": "askC5WswYpIA",
        "colab_type": "code",
        "colab": {}
      },
      "source": [
        "stop_words = set(stopwords.words('english')) \n",
        "def remove_stopwords(x):\n",
        "  word_tokens = word_tokenize(x) \n",
        "  filtered_sentence = [w for w in word_tokens if not w in stop_words] \n",
        "  return ' '.join(filtered_sentence)"
      ],
      "execution_count": 0,
      "outputs": []
    },
    {
      "cell_type": "code",
      "metadata": {
        "id": "AE2glvAcG4fG",
        "colab_type": "code",
        "colab": {}
      },
      "source": [
        "def clean_data(data):\n",
        "  df = data.copy()\n",
        "  df['subject'] = data['subject'].fillna(\"\")\n",
        "  df['subject'] = df['subject'].str.replace(\"Subject:\", \"\", regex=False)\n",
        "  df['email'] = df['subject'] + df['email']\n",
        "  df['email'] = df['email'].apply(lambda x: BeautifulSoup(x).get_text())\n",
        "  df['email'] = df['email'].apply(lambda x: x.strip())\n",
        "  df['email'] = df['email'].apply(remove_stopwords)\n",
        "  df['email'] = df['email'].str.replace(r'\\d+(\\.\\d+)?', 'numbr', regex=True) \n",
        "  return df\n"
      ],
      "execution_count": 0,
      "outputs": []
    },
    {
      "cell_type": "code",
      "metadata": {
        "id": "YtBr2L8WeOjE",
        "colab_type": "code",
        "colab": {}
      },
      "source": [
        "def get_plot(history_dict):\n",
        "  # Loss\n",
        "  training_loss_values = history_dict['loss']\n",
        "  validation_loss_values = history_dict['val_loss']\n",
        "\n",
        "  epochs = range(1, len(training_loss_values) + 1)\n",
        "\n",
        "  plt.figure(figsize=(15, 5)) #(width, height)\n",
        "\n",
        "  plt.subplot(1, 2, 1)\n",
        "  plt.plot(epochs, training_loss_values, 'r', label='Training loss')\n",
        "  plt.plot(epochs, validation_loss_values, 'b', label='Validation loss')\n",
        "  plt.title('Training and validation loss')\n",
        "  plt.xlabel('Epochs')\n",
        "  plt.ylabel('Loss')\n",
        "  plt.legend()\n",
        "\n",
        "  # Accuracy\n",
        "  training_accuracy_values = history_dict['acc']\n",
        "  validation_accuracy_values = history_dict['val_acc']\n",
        "\n",
        "  plt.subplot(1, 2, 2)\n",
        "  plt.plot(epochs, training_accuracy_values, 'r', label='Training accuracy')\n",
        "  plt.plot(epochs, validation_accuracy_values, 'b', label='Validation accuracy')\n",
        "  plt.title('Training and validation accuracy')\n",
        "  plt.xlabel('Epochs')\n",
        "  plt.ylabel('Accuracy')\n",
        "  plt.legend()\n",
        "\n",
        "  plt.tight_layout()\n",
        "\n",
        "  return plt"
      ],
      "execution_count": 0,
      "outputs": []
    },
    {
      "cell_type": "code",
      "metadata": {
        "id": "vXBeIEBiGO0C",
        "colab_type": "code",
        "colab": {}
      },
      "source": [
        "clean_train = clean_data(train)\n",
        "clean_test = clean_data(test)"
      ],
      "execution_count": 0,
      "outputs": []
    },
    {
      "cell_type": "code",
      "metadata": {
        "id": "ppdP9_CWaF-a",
        "colab_type": "code",
        "outputId": "03da8cef-6862-4e14-91d1-3b11d8572395",
        "colab": {
          "base_uri": "https://localhost:8080/",
          "height": 34
        }
      },
      "source": [
        "clean_train.email.map(len).max()"
      ],
      "execution_count": 20,
      "outputs": [
        {
          "output_type": "execute_result",
          "data": {
            "text/plain": [
              "341030"
            ]
          },
          "metadata": {
            "tags": []
          },
          "execution_count": 20
        }
      ]
    },
    {
      "cell_type": "code",
      "metadata": {
        "id": "hFfXEgw_DVwe",
        "colab_type": "code",
        "colab": {}
      },
      "source": [
        "training_sentences = clean_train['email'].to_numpy()\n",
        "training_labels = clean_train['spam'].to_numpy()\n",
        "\n",
        "testing_sentences = clean_test['email'].to_numpy()\n",
        "testing_labels = clean_test['spam'].to_numpy()"
      ],
      "execution_count": 0,
      "outputs": []
    },
    {
      "cell_type": "code",
      "metadata": {
        "id": "15pqDGj-DTrB",
        "colab_type": "code",
        "outputId": "0660af06-52f2-4272-db20-81e57d26bc8f",
        "colab": {
          "base_uri": "https://localhost:8080/",
          "height": 34
        }
      },
      "source": [
        "from keras.preprocessing.text import Tokenizer\n",
        "from keras.preprocessing.sequence import pad_sequences\n",
        "\n",
        "vocab_size = 500 # only the top 500 most frequent words\n",
        "embedding_dim = 100\n",
        "max_length = 500\n",
        "trunc_type = 'post'\n",
        "oov_tok = '<OOV>'\n",
        "\n",
        "tokenizer = Tokenizer(num_words = vocab_size, oov_token = oov_tok)\n",
        "tokenizer.fit_on_texts(training_sentences)\n",
        "\n",
        "# Dictionary mapping words to their index\n",
        "word_index = tokenizer.word_index\n",
        "\n",
        "sequences = tokenizer.texts_to_sequences(training_sentences)\n",
        "padded = pad_sequences(sequences, maxlen = max_length, truncating = trunc_type)\n",
        "\n",
        "print('Found %s unique tokens.' % len(word_index))\n",
        "\n",
        "test_sequences = tokenizer.texts_to_sequences(testing_sentences)\n",
        "testing_padded = pad_sequences(test_sequences, maxlen = max_length, truncating = trunc_type)"
      ],
      "execution_count": 22,
      "outputs": [
        {
          "output_type": "stream",
          "text": [
            "Found 94931 unique tokens.\n"
          ],
          "name": "stdout"
        }
      ]
    },
    {
      "cell_type": "markdown",
      "metadata": {
        "id": "1uBJR3I1GfRB",
        "colab_type": "text"
      },
      "source": [
        "Lets examine the words that the tokenization found.\n",
        "Unfortunately, due to the way tokenization works, word_index contains tokens for all unique words, despite our vocab_size. When we use tokenizer later to token our text, only the most common vocab_size (500) words will be used. \n",
        "So for now, as a quick solution, we can filter the words by index to get the most frequent words"
      ]
    },
    {
      "cell_type": "code",
      "metadata": {
        "id": "qTxNttyxDRAr",
        "colab_type": "code",
        "outputId": "07f3790e-96b4-4c1e-f2a5-2f1238d2eb17",
        "colab": {
          "base_uri": "https://localhost:8080/",
          "height": 1000
        }
      },
      "source": [
        "for word, index in word_index.items():\n",
        "  if index < vocab_size + 1:\n",
        "    print (word, index)"
      ],
      "execution_count": 23,
      "outputs": [
        {
          "output_type": "stream",
          "text": [
            "<OOV> 1\n",
            "numbr 2\n",
            "e 3\n",
            "'' 4\n",
            "n 5\n",
            "r 6\n",
            "http 7\n",
            "com 8\n",
            "c 9\n",
            "'s 10\n",
            "l 11\n",
            "f 12\n",
            "h 13\n",
            "p 14\n",
            "w 15\n",
            "www 16\n",
            "b 17\n",
            "n't 18\n",
            "g 19\n",
            "list 20\n",
            "net 21\n",
            "numbrd 22\n",
            "one 23\n",
            "get 24\n",
            "u 25\n",
            "email 26\n",
            "free 27\n",
            "linux 28\n",
            "new 29\n",
            "' 30\n",
            "mail 31\n",
            "numbre 32\n",
            "anumbr 33\n",
            "time 34\n",
            "use 35\n",
            "lists 36\n",
            "would 37\n",
            "like 38\n",
            "people 39\n",
            "click 40\n",
            "re 41\n",
            "v 42\n",
            "html 43\n",
            "content 44\n",
            "users 45\n",
            "us 46\n",
            "bnumbr 47\n",
            "font 48\n",
            "information 49\n",
            "listinfo 50\n",
            "dnumbr 51\n",
            "message 52\n",
            "d 53\n",
            "please 54\n",
            "make 55\n",
            "mailing 56\n",
            "also 57\n",
            "text 58\n",
            "spamassassin 59\n",
            "business 60\n",
            "k 61\n",
            "x 62\n",
            "cnumbr 63\n",
            "color 64\n",
            "ie 65\n",
            "web 66\n",
            "mailman 67\n",
            "money 68\n",
            "org 69\n",
            "want 70\n",
            "z 71\n",
            "could 72\n",
            "work 73\n",
            "see 74\n",
            "first 75\n",
            "exmh 76\n",
            "software 77\n",
            "numbrc 78\n",
            "wrote 79\n",
            "may 80\n",
            "way 81\n",
            "internet 82\n",
            "address 83\n",
            "razor 84\n",
            "rpm 85\n",
            "'m 86\n",
            "world 87\n",
            "ilug 88\n",
            "spam 89\n",
            "'ve 90\n",
            "sourceforge 91\n",
            "know 92\n",
            "home 93\n",
            "size 94\n",
            "even 95\n",
            "news 96\n",
            "send 97\n",
            "need 98\n",
            "system 99\n",
            "type 100\n",
            "said 101\n",
            "numbrp 102\n",
            "name 103\n",
            "date 104\n",
            "much 105\n",
            "find 106\n",
            "using 107\n",
            "go 108\n",
            "right 109\n",
            "many 110\n",
            "well 111\n",
            "company 112\n",
            "s 113\n",
            "think 114\n",
            "'re 115\n",
            "url 116\n",
            "good 117\n",
            "file 118\n",
            "'ll 119\n",
            "help 120\n",
            "group 121\n",
            "ca 122\n",
            "report 123\n",
            "family 124\n",
            "site 125\n",
            "a 126\n",
            "best 127\n",
            "fnumbr 128\n",
            "today 129\n",
            "line 130\n",
            "take 131\n",
            "receive 132\n",
            "subject 133\n",
            "order 134\n",
            "https 135\n",
            "windows 136\n",
            "years 137\n",
            "day 138\n",
            "check 139\n",
            "read 140\n",
            "q 141\n",
            "back 142\n",
            "enumbr 143\n",
            "phone 144\n",
            "sf 145\n",
            "service 146\n",
            "still 147\n",
            "change 148\n",
            "two 149\n",
            "year 150\n",
            "link 151\n",
            "every 152\n",
            "online 153\n",
            "unsubscribe 154\n",
            "government 155\n",
            "program 156\n",
            "redhat 157\n",
            "life 158\n",
            "used 159\n",
            "set 160\n",
            "security 161\n",
            "version 162\n",
            "perl 163\n",
            "fork 164\n",
            "server 165\n",
            "yahoo 166\n",
            "without 167\n",
            "top 168\n",
            "computer 169\n",
            "data 170\n",
            "j 171\n",
            "since 172\n",
            "last 173\n",
            "available 174\n",
            "really 175\n",
            "sent 176\n",
            "made 177\n",
            "files 178\n",
            "something 179\n",
            "end 180\n",
            "de 181\n",
            "code 182\n",
            "million 183\n",
            "cd 184\n",
            "say 185\n",
            "problem 186\n",
            "subscription 187\n",
            "number 188\n",
            "next 189\n",
            "look 190\n",
            "long 191\n",
            "real 192\n",
            "sure 193\n",
            "transfer 194\n",
            "better 195\n",
            "part 196\n",
            "remove 197\n",
            "support 198\n",
            "services 199\n",
            "talk 200\n",
            "old 201\n",
            "co 202\n",
            "messages 203\n",
            "i 204\n",
            "high 205\n",
            "state 206\n",
            "full 207\n",
            "price 208\n",
            "'d 209\n",
            "run 210\n",
            "states 211\n",
            "easy 212\n",
            "based 213\n",
            "never 214\n",
            "form 215\n",
            "within 216\n",
            "id 217\n",
            "another 218\n",
            "freshrpms 219\n",
            "great 220\n",
            "anyone 221\n",
            "must 222\n",
            "call 223\n",
            "technology 224\n",
            "week 225\n",
            "companies 226\n",
            "uk 227\n",
            "got 228\n",
            "user 229\n",
            "weight 230\n",
            "t 231\n",
            "access 232\n",
            "removed 233\n",
            "offer 234\n",
            "page 235\n",
            "try 236\n",
            "start 237\n",
            "give 238\n",
            "future 239\n",
            "going 240\n",
            "market 241\n",
            "per 242\n",
            "found 243\n",
            "case 244\n",
            "info 245\n",
            "network 246\n",
            "received 247\n",
            "nextpart 248\n",
            "product 249\n",
            "iiiiiiiiiiiiiiiiiiiiiiiiiiiiiiiiiiiiiiiiiiiiiiiiiiiiiiiiiiiiiiiiiiiiiiiiiiii 250\n",
            "keep 251\n",
            "encoding 252\n",
            "microsoft 253\n",
            " 254\n",
            "search 255\n",
            "small 256\n",
            "open 257\n",
            "might 258\n",
            "united 259\n",
            "things 260\n",
            "pjnumbr 261\n",
            "charset 262\n",
            "xent 263\n",
            "looking 264\n",
            "credit 265\n",
            "different 266\n",
            "sponsored 267\n",
            "un 268\n",
            "times 269\n",
            "apt 270\n",
            "numbrb 271\n",
            "example 272\n",
            "numbrpx 273\n",
            "thinkgeek 274\n",
            "following 275\n",
            "days 276\n",
            "tech 277\n",
            "decoration 278\n",
            "let 279\n",
            "less 280\n",
            "products 281\n",
            "normal 282\n",
            "save 283\n",
            "marketing 284\n",
            "story 285\n",
            "ever 286\n",
            "background 287\n",
            "article 288\n",
            "latest 289\n",
            "cnet 290\n",
            "thing 291\n",
            "wish 292\n",
            "etc 293\n",
            "irish 294\n",
            "source 295\n",
            "numbra 296\n",
            "thanks 297\n",
            "come 298\n",
            "card 299\n",
            "face 300\n",
            "month 301\n",
            "around 302\n",
            "signature 303\n",
            "put 304\n",
            "build 305\n",
            "in 306\n",
            "issue 307\n",
            "someone 308\n",
            "release 309\n",
            "actually 310\n",
            "systems 311\n",
            "contact 312\n",
            "original 313\n",
            "problems 314\n",
            "special 315\n",
            "yes 316\n",
            "package 317\n",
            "reply 318\n",
            "works 319\n",
            "however 320\n",
            "legal 321\n",
            "working 322\n",
            "asp 323\n",
            "public 324\n",
            "addresses 325\n",
            "error 326\n",
            "buy 327\n",
            "rights 328\n",
            "show 329\n",
            "little 330\n",
            "ac 331\n",
            "point 332\n",
            "always 333\n",
            "media 334\n",
            "inc 335\n",
            "sep 336\n",
            "least 337\n",
            "low 338\n",
            "personal 339\n",
            "visit 340\n",
            "instead 341\n",
            "add 342\n",
            "numbrcfont 343\n",
            "numbrffont 344\n",
            "though 345\n",
            "pgp 346\n",
            "none 347\n",
            "application 348\n",
            "place 349\n",
            "probably 350\n",
            "plain 351\n",
            "stuff 352\n",
            "already 353\n",
            "cost 354\n",
            "running 355\n",
            "bb 356\n",
            "non 357\n",
            "maintainer 358\n",
            "lot 359\n",
            "mr 360\n",
            "pc 361\n",
            "insurance 362\n",
            "sites 363\n",
            "big 364\n",
            "says 365\n",
            "july 366\n",
            "listmaster 367\n",
            "current 368\n",
            "to 369\n",
            "making 370\n",
            "kernel 371\n",
            "pm 372\n",
            "workers 373\n",
            "download 374\n",
            "the 375\n",
            "account 376\n",
            "able 377\n",
            "aug 378\n",
            "getting 379\n",
            "including 380\n",
            "cash 381\n",
            "course 382\n",
            "include 383\n",
            "simple 384\n",
            "left 385\n",
            "digital 386\n",
            "pay 387\n",
            "september 388\n",
            "programs 389\n",
            "anything 390\n",
            "copyright 391\n",
            "key 392\n",
            "border 393\n",
            "else 394\n",
            "tell 395\n",
            "hard 396\n",
            "o 397\n",
            "format 398\n",
            "m 399\n",
            "three 400\n",
            "numbrdnumbr 401\n",
            "job 402\n",
            "center 403\n",
            "financial 404\n",
            "yet 405\n",
            "local 406\n",
            "grants 407\n",
            "newsletter 408\n",
            "seems 409\n",
            "simply 410\n",
            "complete 411\n",
            "xml 412\n",
            "write 413\n",
            "development 414\n",
            "daily 415\n",
            "ad 416\n",
            "ms 417\n",
            "test 418\n",
            "possible 419\n",
            "log 420\n",
            "rates 421\n",
            "mailto 422\n",
            "heaven 423\n",
            "enough 424\n",
            "groups 425\n",
            "offers 426\n",
            "value 427\n",
            "american 428\n",
            "power 429\n",
            "done 430\n",
            "nothing 431\n",
            "numbrtnumbr 432\n",
            "general 433\n",
            "months 434\n",
            "results 435\n",
            "global 436\n",
            "fax 437\n",
            "nbsp 438\n",
            "trade 439\n",
            "style 440\n",
            "root 441\n",
            "country 442\n",
            "called 443\n",
            "provide 444\n",
            "others 445\n",
            "iso 446\n",
            "via 447\n",
            "website 448\n",
            "stop 449\n",
            "policy 450\n",
            "america 451\n",
            "box 452\n",
            "trying 453\n",
            "welcome 454\n",
            "folder 455\n",
            "law 456\n",
            "investment 457\n",
            "management 458\n",
            "second 459\n",
            "mime 460\n",
            "away 461\n",
            "maybe 462\n",
            "book 463\n",
            "os 464\n",
            "newsisfree 465\n",
            "interest 466\n",
            "copy 467\n",
            "fact 468\n",
            "letter 469\n",
            "ba 470\n",
            "red 471\n",
            "office 472\n",
            "java 473\n",
            "august 474\n",
            "plus 475\n",
            "solid 476\n",
            "install 477\n",
            "orders 478\n",
            "bit 479\n",
            "word 480\n",
            "opportunity 481\n",
            "php 482\n",
            "person 483\n",
            "client 484\n",
            "total 485\n",
            "note 486\n",
            "dollars 487\n",
            "communications 488\n",
            "live 489\n",
            "either 490\n",
            "everything 491\n",
            "president 492\n",
            "experience 493\n",
            "changes 494\n",
            "industry 495\n",
            "seen 496\n",
            "hours 497\n",
            "question 498\n",
            "city 499\n",
            "idea 500\n"
          ],
          "name": "stdout"
        }
      ]
    },
    {
      "cell_type": "code",
      "metadata": {
        "id": "RfodBWMOhPmG",
        "colab_type": "code",
        "colab": {}
      },
      "source": [
        "embeddings_index = {}\n",
        "f = open('/content/drive/My Drive/Colab Notebooks/data/glove.6B.100d.txt')\n",
        "for line in f:\n",
        "    values = line.split()\n",
        "    word = values[0]\n",
        "    coefs = np.asarray(values[1:], dtype='float32')\n",
        "    embeddings_index[word] = coefs\n",
        "f.close()"
      ],
      "execution_count": 0,
      "outputs": []
    },
    {
      "cell_type": "code",
      "metadata": {
        "id": "r-hNs0KxhaHD",
        "colab_type": "code",
        "colab": {}
      },
      "source": [
        "embedding_matrix = np.zeros((len(word_index) + 1, embedding_dim)) # +1 to account for the <OOV> token\n",
        "for word, i in word_index.items():\n",
        "    embedding_vector = embeddings_index.get(word)\n",
        "    if embedding_vector is not None:\n",
        "        # words not found in embedding index will be all-zeros.\n",
        "        embedding_matrix[i] = embedding_vector"
      ],
      "execution_count": 0,
      "outputs": []
    },
    {
      "cell_type": "code",
      "metadata": {
        "id": "HwNC6gznbucA",
        "colab_type": "code",
        "colab": {
          "base_uri": "https://localhost:8080/",
          "height": 71
        },
        "outputId": "a26e1528-4d6d-47c0-e0e2-a0aa10d231d1"
      },
      "source": [
        "embedding_layer = Embedding(len(word_index) + 1,\n",
        "                            embedding_dim,\n",
        "                            weights = [embedding_matrix],\n",
        "                            input_length = max_length,\n",
        "                            trainable = False)"
      ],
      "execution_count": 28,
      "outputs": [
        {
          "output_type": "stream",
          "text": [
            "WARNING:tensorflow:From /usr/local/lib/python3.6/dist-packages/keras/backend/tensorflow_backend.py:66: The name tf.get_default_graph is deprecated. Please use tf.compat.v1.get_default_graph instead.\n",
            "\n"
          ],
          "name": "stdout"
        }
      ]
    },
    {
      "cell_type": "code",
      "metadata": {
        "id": "aHgBjFZAlx6_",
        "colab_type": "code",
        "colab": {
          "base_uri": "https://localhost:8080/",
          "height": 309
        },
        "outputId": "3f8e2785-19cd-45ca-fcd0-16380ed881de"
      },
      "source": [
        "tokenized_mail = Input(shape=(max_length,), dtype='int32')\n",
        "\n",
        "embedded_sequences = embedding_layer(tokenized_mail)\n",
        "x = Bidirectional(LSTM(64, return_sequences = True))(embedded_sequences)\n",
        "# x = Dropout(rate = 0.5 )(x)\n",
        "x = Bidirectional(LSTM(32))(x)\n",
        "# x = Dropout(rate = 0.5 )(x)\n",
        "x = Dense(64, activation = 'relu')(x)\n",
        "# x = Dropout(rate = 0.5 )(x)\n",
        "x = Dense(1, activation = 'sigmoid')(x)\n",
        "\n",
        "model = Model(inputs = tokenized_mail, outputs = x)"
      ],
      "execution_count": 29,
      "outputs": [
        {
          "output_type": "stream",
          "text": [
            "WARNING:tensorflow:From /usr/local/lib/python3.6/dist-packages/keras/backend/tensorflow_backend.py:541: The name tf.placeholder is deprecated. Please use tf.compat.v1.placeholder instead.\n",
            "\n",
            "WARNING:tensorflow:From /usr/local/lib/python3.6/dist-packages/keras/backend/tensorflow_backend.py:4432: The name tf.random_uniform is deprecated. Please use tf.random.uniform instead.\n",
            "\n",
            "WARNING:tensorflow:From /usr/local/lib/python3.6/dist-packages/keras/backend/tensorflow_backend.py:190: The name tf.get_default_session is deprecated. Please use tf.compat.v1.get_default_session instead.\n",
            "\n",
            "WARNING:tensorflow:From /usr/local/lib/python3.6/dist-packages/keras/backend/tensorflow_backend.py:197: The name tf.ConfigProto is deprecated. Please use tf.compat.v1.ConfigProto instead.\n",
            "\n",
            "WARNING:tensorflow:From /usr/local/lib/python3.6/dist-packages/keras/backend/tensorflow_backend.py:203: The name tf.Session is deprecated. Please use tf.compat.v1.Session instead.\n",
            "\n",
            "WARNING:tensorflow:From /usr/local/lib/python3.6/dist-packages/keras/backend/tensorflow_backend.py:207: The name tf.global_variables is deprecated. Please use tf.compat.v1.global_variables instead.\n",
            "\n",
            "WARNING:tensorflow:From /usr/local/lib/python3.6/dist-packages/keras/backend/tensorflow_backend.py:216: The name tf.is_variable_initialized is deprecated. Please use tf.compat.v1.is_variable_initialized instead.\n",
            "\n",
            "WARNING:tensorflow:From /usr/local/lib/python3.6/dist-packages/keras/backend/tensorflow_backend.py:223: The name tf.variables_initializer is deprecated. Please use tf.compat.v1.variables_initializer instead.\n",
            "\n"
          ],
          "name": "stdout"
        }
      ]
    },
    {
      "cell_type": "code",
      "metadata": {
        "id": "rjH3fHkonuyh",
        "colab_type": "code",
        "outputId": "7140b1f5-8947-41b4-c78d-0dc751a574fa",
        "colab": {
          "base_uri": "https://localhost:8080/",
          "height": 357
        }
      },
      "source": [
        "model.summary()"
      ],
      "execution_count": 30,
      "outputs": [
        {
          "output_type": "stream",
          "text": [
            "Model: \"model_1\"\n",
            "_________________________________________________________________\n",
            "Layer (type)                 Output Shape              Param #   \n",
            "=================================================================\n",
            "input_1 (InputLayer)         (None, 500)               0         \n",
            "_________________________________________________________________\n",
            "embedding_1 (Embedding)      (None, 500, 100)          9493200   \n",
            "_________________________________________________________________\n",
            "bidirectional_1 (Bidirection (None, 500, 128)          84480     \n",
            "_________________________________________________________________\n",
            "bidirectional_2 (Bidirection (None, 64)                41216     \n",
            "_________________________________________________________________\n",
            "dense_1 (Dense)              (None, 64)                4160      \n",
            "_________________________________________________________________\n",
            "dense_2 (Dense)              (None, 1)                 65        \n",
            "=================================================================\n",
            "Total params: 9,623,121\n",
            "Trainable params: 129,921\n",
            "Non-trainable params: 9,493,200\n",
            "_________________________________________________________________\n"
          ],
          "name": "stdout"
        }
      ]
    },
    {
      "cell_type": "code",
      "metadata": {
        "id": "8x-itfYAnxRk",
        "colab_type": "code",
        "colab": {
          "base_uri": "https://localhost:8080/",
          "height": 156
        },
        "outputId": "71b96963-6df3-424c-ca64-6ab7fcfadfba"
      },
      "source": [
        "model.compile(loss='binary_crossentropy', optimizer='adam', metrics=['accuracy'])"
      ],
      "execution_count": 31,
      "outputs": [
        {
          "output_type": "stream",
          "text": [
            "WARNING:tensorflow:From /usr/local/lib/python3.6/dist-packages/keras/optimizers.py:793: The name tf.train.Optimizer is deprecated. Please use tf.compat.v1.train.Optimizer instead.\n",
            "\n",
            "WARNING:tensorflow:From /usr/local/lib/python3.6/dist-packages/keras/backend/tensorflow_backend.py:3657: The name tf.log is deprecated. Please use tf.math.log instead.\n",
            "\n",
            "WARNING:tensorflow:From /usr/local/lib/python3.6/dist-packages/tensorflow_core/python/ops/nn_impl.py:183: where (from tensorflow.python.ops.array_ops) is deprecated and will be removed in a future version.\n",
            "Instructions for updating:\n",
            "Use tf.where in 2.0, which has the same broadcast rule as np.where\n"
          ],
          "name": "stdout"
        }
      ]
    },
    {
      "cell_type": "code",
      "metadata": {
        "id": "s0ccGAjKn1fa",
        "colab_type": "code",
        "outputId": "277fd11f-c6b4-4ded-e8db-1f2d3f0ccd1c",
        "colab": {
          "base_uri": "https://localhost:8080/",
          "height": 462
        }
      },
      "source": [
        "history = model.fit(padded, \n",
        "            training_labels, \n",
        "            epochs = 10, \n",
        "            batch_size=256,\n",
        "            validation_data = (testing_padded, testing_labels))"
      ],
      "execution_count": 32,
      "outputs": [
        {
          "output_type": "stream",
          "text": [
            "WARNING:tensorflow:From /usr/local/lib/python3.6/dist-packages/keras/backend/tensorflow_backend.py:1033: The name tf.assign_add is deprecated. Please use tf.compat.v1.assign_add instead.\n",
            "\n",
            "WARNING:tensorflow:From /usr/local/lib/python3.6/dist-packages/keras/backend/tensorflow_backend.py:1020: The name tf.assign is deprecated. Please use tf.compat.v1.assign instead.\n",
            "\n",
            "Train on 7513 samples, validate on 835 samples\n",
            "Epoch 1/10\n",
            "7513/7513 [==============================] - 86s 11ms/step - loss: 0.5429 - acc: 0.7307 - val_loss: 0.4268 - val_acc: 0.8084\n",
            "Epoch 2/10\n",
            "7513/7513 [==============================] - 82s 11ms/step - loss: 0.3140 - acc: 0.8700 - val_loss: 0.2241 - val_acc: 0.9150\n",
            "Epoch 3/10\n",
            "7513/7513 [==============================] - 81s 11ms/step - loss: 0.1818 - acc: 0.9295 - val_loss: 0.2521 - val_acc: 0.9114\n",
            "Epoch 4/10\n",
            "7513/7513 [==============================] - 81s 11ms/step - loss: 0.1629 - acc: 0.9432 - val_loss: 0.1782 - val_acc: 0.9425\n",
            "Epoch 5/10\n",
            "7513/7513 [==============================] - 81s 11ms/step - loss: 0.1291 - acc: 0.9549 - val_loss: 0.1559 - val_acc: 0.9437\n",
            "Epoch 6/10\n",
            "7513/7513 [==============================] - 80s 11ms/step - loss: 0.1302 - acc: 0.9571 - val_loss: 0.1464 - val_acc: 0.9497\n",
            "Epoch 7/10\n",
            "7513/7513 [==============================] - 80s 11ms/step - loss: 0.1178 - acc: 0.9610 - val_loss: 0.1469 - val_acc: 0.9449\n",
            "Epoch 8/10\n",
            "7513/7513 [==============================] - 79s 10ms/step - loss: 0.0982 - acc: 0.9658 - val_loss: 0.1348 - val_acc: 0.9593\n",
            "Epoch 9/10\n",
            "7513/7513 [==============================] - 79s 10ms/step - loss: 0.0853 - acc: 0.9716 - val_loss: 0.1329 - val_acc: 0.9557\n",
            "Epoch 10/10\n",
            "7513/7513 [==============================] - 78s 10ms/step - loss: 0.0771 - acc: 0.9750 - val_loss: 0.1226 - val_acc: 0.9689\n"
          ],
          "name": "stdout"
        }
      ]
    },
    {
      "cell_type": "code",
      "metadata": {
        "id": "hs0HadGogokh",
        "colab_type": "code",
        "colab": {
          "base_uri": "https://localhost:8080/",
          "height": 352
        },
        "outputId": "5a38df60-1fb8-4c2b-b28f-77f5a701594d"
      },
      "source": [
        "# View the training and validation loss & accuracy\n",
        "plt = get_plot(history.history)\n",
        "plt.show()"
      ],
      "execution_count": 35,
      "outputs": [
        {
          "output_type": "display_data",
          "data": {
            "image/png": "[encoded data removed]",
            "text/plain": [
              "<Figure size 1080x360 with 2 Axes>"
            ]
          },
          "metadata": {
            "tags": []
          }
        }
      ]
    },
    {
      "cell_type": "code",
      "metadata": {
        "id": "_mZ3kyC5gGQc",
        "colab_type": "code",
        "colab": {}
      },
      "source": [
        "from google.colab import files\n",
        "\n",
        "def download_model(model, model_name):\n",
        "  model_name = str(model_name) + '.h5'\n",
        "\n",
        "  model.save(model_name)\n",
        "  files.download(model_name)"
      ],
      "execution_count": 0,
      "outputs": []
    },
    {
      "cell_type": "code",
      "metadata": {
        "id": "LSqg7h0GviVL",
        "colab_type": "code",
        "colab": {}
      },
      "source": [
        "clean_eval = clean_data(evaluation)\n",
        "eval_sentences = clean_eval['email'].to_numpy()\n",
        "eval_sequences = tokenizer.texts_to_sequences(eval_sentences)\n",
        "eval_padded = pad_sequences(eval_sequences, maxlen = max_length, truncating = trunc_type)"
      ],
      "execution_count": 0,
      "outputs": []
    },
    {
      "cell_type": "code",
      "metadata": {
        "id": "sCZ4K6nev3FU",
        "colab_type": "code",
        "outputId": "6eab2440-3bdd-4af5-f0c6-6d5c8b4af3d6",
        "colab": {
          "base_uri": "https://localhost:8080/",
          "height": 204
        }
      },
      "source": [
        "clean_eval.head()"
      ],
      "execution_count": 37,
      "outputs": [
        {
          "output_type": "execute_result",
          "data": {
            "text/html": [
              "<div>\n",
              "<style scoped>\n",
              "    .dataframe tbody tr th:only-of-type {\n",
              "        vertical-align: middle;\n",
              "    }\n",
              "\n",
              "    .dataframe tbody tr th {\n",
              "        vertical-align: top;\n",
              "    }\n",
              "\n",
              "    .dataframe thead th {\n",
              "        text-align: right;\n",
              "    }\n",
              "</style>\n",
              "<table border=\"1\" class=\"dataframe\">\n",
              "  <thead>\n",
              "    <tr style=\"text-align: right;\">\n",
              "      <th></th>\n",
              "      <th>id</th>\n",
              "      <th>subject</th>\n",
              "      <th>email</th>\n",
              "    </tr>\n",
              "  </thead>\n",
              "  <tbody>\n",
              "    <tr>\n",
              "      <th>0</th>\n",
              "      <td>0</td>\n",
              "      <td>CERT Advisory CA-2002-21 Vulnerability in PHP\\n</td>\n",
              "      <td>CERT Advisory CA-numbr-numbr Vulnerability PHP...</td>\n",
              "    </tr>\n",
              "    <tr>\n",
              "      <th>1</th>\n",
              "      <td>1</td>\n",
              "      <td>ADV: Affordable Life Insurance ddbfk\\n</td>\n",
              "      <td>ADV : Affordable Life Insurance ddbfk low-cost...</td>\n",
              "    </tr>\n",
              "    <tr>\n",
              "      <th>2</th>\n",
              "      <td>2</td>\n",
              "      <td>CAREER OPPORTUNITY.  WORK FROM HOME\\n</td>\n",
              "      <td>CAREER OPPORTUNITY . WORK FROM HOME -- -- -- =...</td>\n",
              "    </tr>\n",
              "    <tr>\n",
              "      <th>3</th>\n",
              "      <td>3</td>\n",
              "      <td>Marriage makes both sexes happy\\n</td>\n",
              "      <td>Marriage makes sexes happy url : http : //www....</td>\n",
              "    </tr>\n",
              "    <tr>\n",
              "      <th>4</th>\n",
              "      <td>4</td>\n",
              "      <td>Re: [SAtalk] SA very slow (hangs?) on this me...</td>\n",
              "      <td>Re : [ SAtalk ] SA slow ( hangs ? ) message , ...</td>\n",
              "    </tr>\n",
              "  </tbody>\n",
              "</table>\n",
              "</div>"
            ],
            "text/plain": [
              "   id  ...                                              email\n",
              "0   0  ...  CERT Advisory CA-numbr-numbr Vulnerability PHP...\n",
              "1   1  ...  ADV : Affordable Life Insurance ddbfk low-cost...\n",
              "2   2  ...  CAREER OPPORTUNITY . WORK FROM HOME -- -- -- =...\n",
              "3   3  ...  Marriage makes sexes happy url : http : //www....\n",
              "4   4  ...  Re : [ SAtalk ] SA slow ( hangs ? ) message , ...\n",
              "\n",
              "[5 rows x 3 columns]"
            ]
          },
          "metadata": {
            "tags": []
          },
          "execution_count": 37
        }
      ]
    },
    {
      "cell_type": "code",
      "metadata": {
        "id": "V0wiK7T5fE5-",
        "colab_type": "code",
        "colab": {}
      },
      "source": [
        "def process_predictions(predictions):\n",
        "  evaluation_predictions = np.where(predictions >= 0.5, 1, 0)\n",
        "  evaluation_predictions.shape\n",
        "  evaluation_predictions = np.squeeze(evaluation_predictions)\n",
        "  evaluation_predictions.shape\n",
        "\n",
        "  return evaluation_predictions"
      ],
      "execution_count": 0,
      "outputs": []
    },
    {
      "cell_type": "code",
      "metadata": {
        "id": "WMHZzJbZyEVb",
        "colab_type": "code",
        "colab": {}
      },
      "source": [
        "predicted_labels = model.predict(eval_padded)\n",
        "\n",
        "predicted_labels[:5]\n",
        "\n",
        "evaluation_predictions = process_predictions(predicted_labels)"
      ],
      "execution_count": 0,
      "outputs": []
    },
    {
      "cell_type": "code",
      "metadata": {
        "id": "u5NCOR10fnB-",
        "colab_type": "code",
        "colab": {}
      },
      "source": [
        "from datetime import datetime\n",
        "from google.colab import files\n",
        "\n",
        "def download_kaggle_submission(evaluation_predictions):\n",
        "\n",
        "  # Assuming that your predictions on the evaluation set are stored in a 1-dimensional array called\n",
        "  # evaluation_predictions. Feel free to modify this cell as long you create a CSV in the right format.\n",
        "\n",
        "  # must be ndarray of predictions\n",
        "  assert isinstance(evaluation_predictions, np.ndarray) \n",
        "\n",
        "  # must be binary labels (0 or 1) and not probabilities\n",
        "  assert np.all((evaluation_predictions == 0) | (evaluation_predictions == 1))\n",
        "\n",
        "  # must be the right number of predictions\n",
        "  assert evaluation_predictions.shape == (1000, )\n",
        "\n",
        "  # Construct and save the submission:\n",
        "  submission_df = pd.DataFrame({\n",
        "      \"Id\": evaluation['id'], \n",
        "      \"Class\": evaluation_predictions,\n",
        "  }, columns=['Id', 'Class'])\n",
        "\n",
        "  timestamp = datetime.isoformat(datetime.now()).split(\".\")[0]\n",
        "  submission_file_name = \"submission_{}.csv\".format(timestamp)\n",
        "\n",
        "  submission_df.to_csv(submission_file_name, index=False)\n",
        "\n",
        "  print('Downloading CSV file: {}.'.format(submission_file_name))\n",
        "  print('You may now upload this CSV file to Kaggle for scoring.')\n",
        "\n",
        "  files.download(submission_file_name)"
      ],
      "execution_count": 0,
      "outputs": []
    },
    {
      "cell_type": "code",
      "metadata": {
        "id": "g_nmTFU7ipum",
        "colab_type": "code",
        "colab": {
          "base_uri": "https://localhost:8080/",
          "height": 51
        },
        "outputId": "22565269-e2f6-450e-80ca-4d891316a6d4"
      },
      "source": [
        "download_kaggle_submission(evaluation_predictions)"
      ],
      "execution_count": 41,
      "outputs": [
        {
          "output_type": "stream",
          "text": [
            "Downloading CSV file: submission_2020-03-15T23:32:38.csv.\n",
            "You may now upload this CSV file to Kaggle for scoring.\n"
          ],
          "name": "stdout"
        }
      ]
    },
    {
      "cell_type": "code",
      "metadata": {
        "id": "YQlislf9is4n",
        "colab_type": "code",
        "colab": {}
      },
      "source": [
        ""
      ],
      "execution_count": 0,
      "outputs": []
    }
  ]
}